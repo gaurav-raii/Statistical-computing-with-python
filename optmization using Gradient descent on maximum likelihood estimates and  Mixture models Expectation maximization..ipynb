{
 "cells": [
  {
   "cell_type": "code",
   "execution_count": 1,
   "metadata": {},
   "outputs": [
    {
     "data": {
      "text/html": [
       "<style>.container{ width:100% !important; }</style>"
      ],
      "text/plain": [
       "<IPython.core.display.HTML object>"
      ]
     },
     "metadata": {},
     "output_type": "display_data"
    }
   ],
   "source": [
    "from IPython.core.display import display, HTML\n",
    "display(HTML(\"<style>.container{ width:100% !important; }</style>\"))"
   ]
  },
  {
   "cell_type": "code",
   "execution_count": 2,
   "metadata": {},
   "outputs": [],
   "source": [
    "import numpy as np\n",
    "freq = np.array([162,267,271,185,111,61,27,8,3,1])"
   ]
  },
  {
   "cell_type": "code",
   "execution_count": 3,
   "metadata": {},
   "outputs": [
    {
     "data": {
      "image/png": "[encoded data removed]",
      "text/plain": [
       "<Figure size 432x288 with 1 Axes>"
      ]
     },
     "metadata": {},
     "output_type": "display_data"
    }
   ],
   "source": [
    "%matplotlib inline\n",
    "import matplotlib.pyplot as plt\n",
    "plt.style.use('seaborn-whitegrid')\n",
    "\n",
    "## proportion of different number of deaths\n",
    "plt.plot(np.arange(freq.size), freq/np.sum(freq), 'o', color='black')\n",
    "plt.xlabel(\"Number of Deaths\")\n",
    "plt.ylabel(\"Proportion\");"
   ]
  },
  {
   "cell_type": "code",
   "execution_count": 4,
   "metadata": {},
   "outputs": [],
   "source": [
    "lam= (freq*np.arange(1,11)).sum()/freq.sum()"
   ]
  },
  {
   "cell_type": "code",
   "execution_count": 5,
   "metadata": {},
   "outputs": [
    {
     "data": {
      "text/plain": [
       "3.156934306569343"
      ]
     },
     "execution_count": 5,
     "metadata": {},
     "output_type": "execute_result"
    }
   ],
   "source": [
    "lam"
   ]
  },
  {
   "cell_type": "code",
   "execution_count": 6,
   "metadata": {},
   "outputs": [],
   "source": [
    "import matplotlib.pyplot as plt\n",
    "import seaborn as sns"
   ]
  },
  {
   "cell_type": "code",
   "execution_count": 7,
   "metadata": {},
   "outputs": [
    {
     "data": {
      "image/png": "[encoded data removed]",
      "text/plain": [
       "<Figure size 432x288 with 1 Axes>"
      ]
     },
     "metadata": {
      "needs_background": "light"
     },
     "output_type": "display_data"
    }
   ],
   "source": [
    "from scipy.special import factorial\n",
    "\n",
    "t = np.arange(0,10)\n",
    "d = np.exp(-lam)*np.power(lam, t)/factorial(t)\n",
    "\n",
    "plt.plot(np.arange(freq.size), freq/np.sum(freq), 'o', color='black', label= 'original')\n",
    "plt.plot(t, d, '*', label='estimated', color='red')\n",
    "plt.xlabel(\"Number of Deaths\")\n",
    "plt.ylabel(\"Proportion\")\n",
    "plt.legend()\n",
    "plt.show()"
   ]
  },
  {
   "cell_type": "code",
   "execution_count": 8,
   "metadata": {},
   "outputs": [
    {
     "data": {
      "text/plain": [
       "array([0, 1, 2, 3, 4, 5, 6, 7, 8, 9])"
      ]
     },
     "execution_count": 8,
     "metadata": {},
     "output_type": "execute_result"
    }
   ],
   "source": [
    "t"
   ]
  },
  {
   "cell_type": "code",
   "execution_count": 9,
   "metadata": {},
   "outputs": [],
   "source": [
    "def likelihood(x):\n",
    "    return -(np.sum(freq*np.log(x[0]*np.exp(-x[1])*np.power(x[1],t)/factorial(t) + (1-x[0])*np.exp(-x[2])*np.power(x[2],t)/factorial(t))))"
   ]
  },
  {
   "cell_type": "code",
   "execution_count": 10,
   "metadata": {},
   "outputs": [
    {
     "data": {
      "text/plain": [
       "1989.9902145695303"
      ]
     },
     "execution_count": 10,
     "metadata": {},
     "output_type": "execute_result"
    }
   ],
   "source": [
    "likelihood([0.35,1.2561,2.6634])"
   ]
  },
  {
   "cell_type": "code",
   "execution_count": 11,
   "metadata": {},
   "outputs": [],
   "source": [
    "from scipy import optimize"
   ]
  },
  {
   "cell_type": "code",
   "execution_count": 12,
   "metadata": {},
   "outputs": [],
   "source": [
    "initial= [0.5,1,2.5]"
   ]
  },
  {
   "cell_type": "code",
   "execution_count": 13,
   "metadata": {},
   "outputs": [
    {
     "name": "stderr",
     "output_type": "stream",
     "text": [
      "C:\\Users\\gaura\\Anaconda3\\lib\\site-packages\\ipykernel_launcher.py:2: RuntimeWarning: invalid value encountered in log\n",
      "  \n"
     ]
    }
   ],
   "source": [
    "fit= optimize.minimize(likelihood,x0=initial, method='SLSQP', tol=0.00001)"
   ]
  },
  {
   "cell_type": "code",
   "execution_count": 14,
   "metadata": {},
   "outputs": [
    {
     "data": {
      "text/plain": [
       "     fun: 1989.9458623783908\n",
       "     jac: array([-0.00637817,  0.01138306, -0.00311279])\n",
       " message: 'Optimization terminated successfully.'\n",
       "    nfev: 132\n",
       "     nit: 23\n",
       "    njev: 23\n",
       "  status: 0\n",
       " success: True\n",
       "       x: array([0.36023958, 1.25683523, 2.66377831])"
      ]
     },
     "execution_count": 14,
     "metadata": {},
     "output_type": "execute_result"
    }
   ],
   "source": [
    "fit"
   ]
  },
  {
   "cell_type": "code",
   "execution_count": 15,
   "metadata": {},
   "outputs": [
    {
     "name": "stderr",
     "output_type": "stream",
     "text": [
      "C:\\Users\\gaura\\Anaconda3\\lib\\site-packages\\ipykernel_launcher.py:2: RuntimeWarning: invalid value encountered in log\n",
      "  \n"
     ]
    }
   ],
   "source": [
    "alpha=[]\n",
    "mu1=[]\n",
    "mu2=[]\n",
    "for i in range(1000):\n",
    "    initial= [0.3,1,2.5]\n",
    "    fit= optimize.minimize(likelihood,x0=initial, method='SLSQP', tol=0.00001)\n",
    "    alpha.append(fit.x[0])\n",
    "    mu1.append(fit.x[1])\n",
    "    mu2.append(fit.x[2])"
   ]
  },
  {
   "cell_type": "code",
   "execution_count": 16,
   "metadata": {},
   "outputs": [
    {
     "name": "stdout",
     "output_type": "stream",
     "text": [
      "alpha confidence interval : \n",
      "(0.3598589398750457, 0.3598589398750457)\n"
     ]
    }
   ],
   "source": [
    "print(\"alpha confidence interval : \" )\n",
    "print((np.percentile(np.array(alpha), 2.5),np.percentile(np.array(alpha), 97.5)))"
   ]
  },
  {
   "cell_type": "code",
   "execution_count": 17,
   "metadata": {},
   "outputs": [
    {
     "name": "stdout",
     "output_type": "stream",
     "text": [
      "mu1 confidence interval : \n",
      "(1.256047596168394, 1.256047596168394)\n"
     ]
    }
   ],
   "source": [
    "print(\"mu1 confidence interval : \" )\n",
    "print((np.percentile(np.array(mu1), 2.5),np.percentile(np.array(mu1), 97.5)))"
   ]
  },
  {
   "cell_type": "code",
   "execution_count": 18,
   "metadata": {},
   "outputs": [
    {
     "name": "stdout",
     "output_type": "stream",
     "text": [
      "mu2 confidence interval : \n",
      "(2.663376620190098, 2.663376620190098)\n"
     ]
    }
   ],
   "source": [
    "print(\"mu2 confidence interval : \" )\n",
    "print((np.percentile(np.array(mu2), 2.5),np.percentile(np.array(mu2), 97.5)))"
   ]
  },
  {
   "cell_type": "code",
   "execution_count": null,
   "metadata": {},
   "outputs": [],
   "source": []
  },
  {
   "cell_type": "code",
   "execution_count": null,
   "metadata": {},
   "outputs": [],
   "source": []
  },
  {
   "cell_type": "code",
   "execution_count": 19,
   "metadata": {},
   "outputs": [],
   "source": [
    "def likelihood(alpha):\n",
    "    return -(np.sum(freq*np.log(alpha*np.exp(-1.256)*np.power(1.256,t)/factorial(t) + (1-alpha)*np.exp(-2.66)*np.power(2.66,t)/factorial(t))))"
   ]
  },
  {
   "cell_type": "code",
   "execution_count": 20,
   "metadata": {},
   "outputs": [
    {
     "data": {
      "text/plain": [
       "1989.9795000317215"
      ]
     },
     "execution_count": 20,
     "metadata": {},
     "output_type": "execute_result"
    }
   ],
   "source": [
    "likelihood(0.35)"
   ]
  },
  {
   "cell_type": "code",
   "execution_count": 21,
   "metadata": {},
   "outputs": [
    {
     "name": "stdout",
     "output_type": "stream",
     "text": [
      "0.35972677188124086\n"
     ]
    }
   ],
   "source": [
    "# Building the model\n",
    "alpha = 0.3\n",
    "\n",
    "L = 0.001  # The learning Rate\n",
    "epochs = 1000  # The number of iterations to perform gradient descent\n",
    "\n",
    "\n",
    "# Performing Gradient Descent \n",
    "for i in range(epochs): \n",
    "    D_alpha =  np.sum(freq*(((np.exp(-1.2561)*np.power(1.256,t)/factorial(t)) - (np.exp(-2.6633)*np.power(2.6633,t)/factorial(t))) /((alpha*np.exp(-1.2561)*np.power(1.2561,t)/factorial(t)) + ((1-alpha)*np.exp(-2.6633)*np.power(2.6633,t)/factorial(t))))) # Derivative wrt alpha\n",
    "    alpha = alpha + L * D_alpha  # Update alpha\n",
    "    \n",
    "print (alpha)"
   ]
  },
  {
   "cell_type": "code",
   "execution_count": 22,
   "metadata": {},
   "outputs": [],
   "source": [
    "def likelihood(mu1):\n",
    "    return -(np.sum(freq*np.log(0.359*np.exp(-mu1)*np.power(mu1,t)/factorial(t) + (1-0.359)*np.exp(-2.66)*np.power(2.66,t)/factorial(t))))"
   ]
  },
  {
   "cell_type": "code",
   "execution_count": 23,
   "metadata": {},
   "outputs": [
    {
     "data": {
      "text/plain": [
       "1989.9482313796823"
      ]
     },
     "execution_count": 23,
     "metadata": {},
     "output_type": "execute_result"
    }
   ],
   "source": [
    "likelihood(1.25)"
   ]
  },
  {
   "cell_type": "code",
   "execution_count": 24,
   "metadata": {},
   "outputs": [
    {
     "name": "stdout",
     "output_type": "stream",
     "text": [
      "1.254042038154977\n"
     ]
    }
   ],
   "source": [
    "# Building the model\n",
    "mu1 = 1\n",
    "\n",
    "L = 0.005  # The learning Rate\n",
    "epochs = 10000  # The number of iterations to perform gradient descent\n",
    "\n",
    "\n",
    "# Performing Gradient Descent \n",
    "for i in range(epochs): \n",
    "    D_mu1 =  np.sum(freq*((0.359*np.power(float(mu1),t-1)*(np.exp(-mu1))*(t-mu1)/factorial(t)) /((0.359*np.exp(-mu1)*np.power(mu1,t)/factorial(t)) + ((1-0.359)*np.exp(-2.6633)*np.power(2.6633,t)/factorial(t))))) # Derivative wrt alpha\n",
    "    mu1 = mu1 + L * D_mu1  # Update mu1\n",
    "\n",
    "print (mu1)"
   ]
  },
  {
   "cell_type": "code",
   "execution_count": 25,
   "metadata": {},
   "outputs": [],
   "source": [
    "def likelihood(mu2):\n",
    "    return -(np.sum(freq*np.log(0.359*np.exp(-1.254)*np.power(1.254,t)/factorial(t) + (1-0.359)*np.exp(-mu2)*np.power(mu2,t)/factorial(t))))"
   ]
  },
  {
   "cell_type": "code",
   "execution_count": 26,
   "metadata": {},
   "outputs": [
    {
     "data": {
      "text/plain": [
       "1989.9464931352509"
      ]
     },
     "execution_count": 26,
     "metadata": {},
     "output_type": "execute_result"
    }
   ],
   "source": [
    "likelihood(2.66)"
   ]
  },
  {
   "cell_type": "code",
   "execution_count": 27,
   "metadata": {},
   "outputs": [
    {
     "name": "stdout",
     "output_type": "stream",
     "text": [
      "2.649834861240643\n"
     ]
    }
   ],
   "source": [
    "# Building the model\n",
    "mu2 = 3\n",
    "\n",
    "L = 0.0001  # The learning Rate\n",
    "epochs = 10000  # The number of iterations to perform gradient descent\n",
    "\n",
    "\n",
    "# Performing Gradient Descent \n",
    "for i in range(epochs): \n",
    "    D_mu2 =  np.sum(freq*(((1-0.359)*np.power(float(mu2),t-1)*(np.exp(-mu2))*(t-mu2)/factorial(t)) /((0.359*np.exp(-mu1)*np.power(mu1,t)/factorial(t)) + ((1-0.359)*np.exp(-2.6633)*np.power(2.6633,t)/factorial(t))))) # Derivative wrt alpha\n",
    "    mu2 = mu2 + L * D_mu2  # Update mu1\n",
    "\n",
    "print (mu2)"
   ]
  },
  {
   "cell_type": "code",
   "execution_count": null,
   "metadata": {},
   "outputs": [],
   "source": []
  },
  {
   "cell_type": "code",
   "execution_count": null,
   "metadata": {},
   "outputs": [],
   "source": []
  },
  {
   "cell_type": "markdown",
   "metadata": {},
   "source": [
    "# Updating all simultaneously"
   ]
  },
  {
   "cell_type": "code",
   "execution_count": 28,
   "metadata": {},
   "outputs": [],
   "source": [
    "def likelihood(alpha,mu1,mu2):\n",
    "    return -(np.sum(freq*np.log(alpha*np.exp(-mu1)*np.power(mu1,t)/factorial(t) + (1-alpha)*np.exp(-mu2)*np.power(mu2,t)/factorial(t))))"
   ]
  },
  {
   "cell_type": "code",
   "execution_count": 29,
   "metadata": {},
   "outputs": [
    {
     "data": {
      "text/plain": [
       "1989.9670864296702"
      ]
     },
     "execution_count": 29,
     "metadata": {},
     "output_type": "execute_result"
    }
   ],
   "source": [
    "likelihood(0.35,1.25,2.66)"
   ]
  },
  {
   "cell_type": "code",
   "execution_count": 30,
   "metadata": {},
   "outputs": [
    {
     "name": "stdout",
     "output_type": "stream",
     "text": [
      "loop stopped for low converging rate at epoch=81\n",
      "0.35742002052442273 1.2515603200332464 2.6604624826159147\n"
     ]
    }
   ],
   "source": [
    "# Building the model\n",
    "alpha = 0.3\n",
    "mu1   = 1\n",
    "mu2   = 3\n",
    "\n",
    "alpha_list=[]\n",
    "mu1_list=[]\n",
    "mu2_list=[]\n",
    "likelihood_list=[]\n",
    "L = 0.001  # The learning Rate\n",
    "epochs = 10000  # The number of iterations to perform gradient descent\n",
    "\n",
    "\n",
    "# Performing Gradient Descent \n",
    "for i in np.arange(1,epochs): \n",
    "    \n",
    "    D_alpha =  np.sum(freq*(((np.exp(-mu1)*np.power(mu1,t)/factorial(t)) - (np.exp(-mu2)*np.power(mu2,t)/factorial(t))) /((alpha*np.exp(-mu1)*np.power(mu1,t)/factorial(t)) + ((1-alpha)*np.exp(-mu2)*np.power(mu2,t)/factorial(t))))) # Derivative wrt alpha\n",
    "    \n",
    "    D_mu1 =  np.sum(freq*((alpha*np.power(float(mu1),t-1)*(np.exp(-mu1))*(t-mu1)/factorial(t)) /((alpha*np.exp(-mu1)*np.power(mu1,t)/factorial(t)) + ((1-alpha)*np.exp(-mu2)*np.power(mu2,t)/factorial(t))))) # Derivative wrt mu1\n",
    " \n",
    "    D_mu2 =  np.sum(freq*(((1-alpha)*np.power(float(mu2),t-1)*(np.exp(-mu2))*(t-mu2)/factorial(t)) /((alpha*np.exp(-mu1)*np.power(mu1,t)/factorial(t)) + ((1-alpha)*np.exp(-mu2)*np.power(mu2,t)/factorial(t))))) # Derivative wrt alpha\n",
    "    \n",
    "    alpha = alpha + L * D_alpha   # Update alpha\n",
    "    mu1 = mu1 + L * D_mu1         # Update mu1\n",
    "    mu2 = mu2 + L * D_mu2         # Update mu2\n",
    "    likelihood= np.sum(freq*np.log(alpha*np.exp(-mu1)*np.power(mu1,t)/factorial(t) + (1-alpha)*np.exp(-mu2)*np.power(mu2,t)/factorial(t)))\n",
    "    \n",
    "    \n",
    "    alpha_list.append(alpha)\n",
    "    mu1_list.append(mu1)\n",
    "    mu2_list.append(mu2)\n",
    "    likelihood_list.append(likelihood)\n",
    "    \n",
    "    if i>3:\n",
    "        if (likelihood_list[i-1] - likelihood_list[i-2]< 0.000001):                        # if likelihood doesn't converge more, this will break out of the loop\n",
    "            print(\"loop stopped for low converging rate at epoch={}\".format(i))\n",
    "            break;\n",
    "        \n",
    "print (alpha,mu1,mu2)"
   ]
  },
  {
   "cell_type": "code",
   "execution_count": 40,
   "metadata": {},
   "outputs": [
    {
     "data": {
      "image/png": "[encoded data removed]",
      "text/plain": [
       "<Figure size 432x288 with 1 Axes>"
      ]
     },
     "metadata": {
      "needs_background": "light"
     },
     "output_type": "display_data"
    }
   ],
   "source": [
    "from scipy.special import factorial\n",
    "\n",
    "t = np.arange(0,10)\n",
    "d = 0.35*np.exp(-1.25)*np.power(1.25, t)/factorial(t) + (1-0.35)*np.exp(-2.66)*np.power(2.66, t)/factorial(t)    # mixture of the two poisson variables\n",
    "\n",
    "plt.plot(np.arange(freq.size), freq/np.sum(freq), 'o', color='black', label= 'original')\n",
    "plt.plot(t, d, '*', label='estimated', color='red')\n",
    "plt.xlabel(\"Number of Deaths\")\n",
    "plt.ylabel(\"Proportion\")\n",
    "plt.legend()\n",
    "plt.show()"
   ]
  },
  {
   "cell_type": "code",
   "execution_count": 31,
   "metadata": {},
   "outputs": [
    {
     "data": {
      "text/plain": [
       "[<matplotlib.lines.Line2D at 0x18358f7e9c8>]"
      ]
     },
     "execution_count": 31,
     "metadata": {},
     "output_type": "execute_result"
    },
    {
     "data": {
      "image/png": "[encoded data removed]",
      "text/plain": [
       "<Figure size 432x288 with 1 Axes>"
      ]
     },
     "metadata": {
      "needs_background": "light"
     },
     "output_type": "display_data"
    }
   ],
   "source": [
    "plt.plot(likelihood_list)"
   ]
  },
  {
   "cell_type": "code",
   "execution_count": 32,
   "metadata": {},
   "outputs": [
    {
     "data": {
      "text/plain": [
       "<matplotlib.collections.PathCollection at 0x18357f113c8>"
      ]
     },
     "execution_count": 32,
     "metadata": {},
     "output_type": "execute_result"
    },
    {
     "data": {
      "image/png": "[encoded data removed]",
      "text/plain": [
       "<Figure size 432x288 with 1 Axes>"
      ]
     },
     "metadata": {
      "needs_background": "light"
     },
     "output_type": "display_data"
    }
   ],
   "source": [
    "plt.scatter(alpha_list, likelihood_list)"
   ]
  },
  {
   "cell_type": "code",
   "execution_count": 33,
   "metadata": {},
   "outputs": [
    {
     "data": {
      "text/plain": [
       "<matplotlib.collections.PathCollection at 0x18359041a88>"
      ]
     },
     "execution_count": 33,
     "metadata": {},
     "output_type": "execute_result"
    },
    {
     "data": {
      "image/png": "[encoded data removed]",
      "text/plain": [
       "<Figure size 432x288 with 1 Axes>"
      ]
     },
     "metadata": {
      "needs_background": "light"
     },
     "output_type": "display_data"
    }
   ],
   "source": [
    "plt.scatter(mu1_list, likelihood_list)"
   ]
  },
  {
   "cell_type": "code",
   "execution_count": 35,
   "metadata": {},
   "outputs": [
    {
     "data": {
      "text/plain": [
       "<matplotlib.collections.PathCollection at 0x18359113048>"
      ]
     },
     "execution_count": 35,
     "metadata": {},
     "output_type": "execute_result"
    },
    {
     "data": {
      "image/png": "[encoded data removed]",
      "text/plain": [
       "<Figure size 432x288 with 1 Axes>"
      ]
     },
     "metadata": {
      "needs_background": "light"
     },
     "output_type": "display_data"
    }
   ],
   "source": [
    "plt.scatter(mu2_list, likelihood_list)"
   ]
  },
  {
   "cell_type": "markdown",
   "metadata": {},
   "source": [
    "# EM algorithm"
   ]
  },
  {
   "cell_type": "code",
   "execution_count": 41,
   "metadata": {},
   "outputs": [],
   "source": [
    "z = (alpha*np.exp(-mu1)*np.power(mu1,t))/(alpha*np.exp(-mu1)*np.power(mu1,t)+ (1-alpha)*np.exp(-mu2)*np.power(mu2,t))"
   ]
  },
  {
   "cell_type": "code",
   "execution_count": 43,
   "metadata": {},
   "outputs": [],
   "source": [
    "alpha = np.sum(freq*z)/np.sum(freq)"
   ]
  },
  {
   "cell_type": "code",
   "execution_count": 45,
   "metadata": {},
   "outputs": [],
   "source": [
    "mu1 = np.sum(freq*t*z)/np.sum(freq*z)"
   ]
  },
  {
   "cell_type": "code",
   "execution_count": 47,
   "metadata": {},
   "outputs": [],
   "source": [
    "mu2= np.sum(freq*t*(1-z))/np.sum(freq*(1-z))"
   ]
  },
  {
   "cell_type": "code",
   "execution_count": 50,
   "metadata": {},
   "outputs": [
    {
     "name": "stdout",
     "output_type": "stream",
     "text": [
      "0.3592667543620744 1.2550188670447502 2.6626490246255856\n"
     ]
    }
   ],
   "source": [
    "alpha, mu1,mu2 = 0.3, 1,3\n",
    "\n",
    "for i in range(1000):\n",
    "    # E step\n",
    "    z = (alpha*np.exp(-mu1)*np.power(mu1,t))/(alpha*np.exp(-mu1)*np.power(mu1,t)+ (1-alpha)*np.exp(-mu2)*np.power(mu2,t))\n",
    "    \n",
    "    # M step\n",
    "    alpha= np.sum(freq*z)/np.sum(freq)\n",
    "    mu1 = np.sum(freq*t*z)/np.sum(freq*z)\n",
    "    mu2= np.sum(freq*t*(1-z))/np.sum(freq*(1-z))\n",
    "    \n",
    "print(alpha,mu1, mu2)"
   ]
  },
  {
   "cell_type": "code",
   "execution_count": null,
   "metadata": {},
   "outputs": [],
   "source": []
  }
 ],
 "metadata": {
  "kernelspec": {
   "display_name": "Python 3",
   "language": "python",
   "name": "python3"
  },
  "language_info": {
   "codemirror_mode": {
    "name": "ipython",
    "version": 3
   },
   "file_extension": ".py",
   "mimetype": "text/x-python",
   "name": "python",
   "nbconvert_exporter": "python",
   "pygments_lexer": "ipython3",
   "version": "3.7.4"
  }
 },
 "nbformat": 4,
 "nbformat_minor": 2
}
